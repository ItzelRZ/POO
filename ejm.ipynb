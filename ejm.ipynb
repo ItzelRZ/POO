{
  "nbformat": 4,
  "nbformat_minor": 0,
  "metadata": {
    "colab": {
      "provenance": [],
      "authorship_tag": "ABX9TyPLK3NrItIO08Fn8Cm52IWq",
      "include_colab_link": true
    },
    "kernelspec": {
      "name": "python3",
      "display_name": "Python 3"
    },
    "language_info": {
      "name": "python"
    }
  },
  "cells": [
    {
      "cell_type": "markdown",
      "metadata": {
        "id": "view-in-github",
        "colab_type": "text"
      },
      "source": [
        "<a href=\"https://colab.research.google.com/github/ItzelRZ/POO/blob/main/ejm.ipynb\" target=\"_parent\"><img src=\"https://colab.research.google.com/assets/colab-badge.svg\" alt=\"Open In Colab\"/></a>"
      ]
    },
    {
      "cell_type": "code",
      "execution_count": null,
      "metadata": {
        "id": "76kF9DybBF3r"
      },
      "outputs": [],
      "source": [
        "\"\"\"\n",
        "mi_lista = ['Juan', 'Pedro', 'Laura', 'Carmen', 'Susana']\n",
        "x=\"hola mundo\"\n",
        "y=list(['Juan', 'Pedro', 'Laura', 'Carmen', 'Susana'])print(mi_lista[0]) # Muestra Juan (la primera posición es la 0)\n",
        "print(mi_lista[-1]) # Muestra Susana\n",
        "print(mi_lista[1]) # Muestra Pedro\n",
        "print(mi_lista[2]) # Muestra Laura\n",
        "print(mi_lista[-2]) # Muestra Carmen\n",
        "print(mi_lista[-3]) # Muestra Carmen\n",
        "print(mi_lista[-2]) # Muestra Carmen print(len(mi_lista))\n",
        "print(len(x))\n",
        "print(len(y))\n",
        "\"\"\"\n",
        "edades = [20, 41, 6, 18, 23]\n",
        "# Recorriendo los elementos\n",
        "#for edad in edades:\n",
        "    #print(edad)\n",
        "#print(edades)\n",
        "for i in range(1,len(edades),2):\n",
        "    print(edades[i])"
      ]
    }
  ]
}