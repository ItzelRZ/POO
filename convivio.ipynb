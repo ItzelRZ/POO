{
  "nbformat": 4,
  "nbformat_minor": 0,
  "metadata": {
    "colab": {
      "provenance": [],
      "authorship_tag": "ABX9TyMrp7zBXCu42o0znZFZnpKP",
      "include_colab_link": true
    },
    "kernelspec": {
      "name": "python3",
      "display_name": "Python 3"
    },
    "language_info": {
      "name": "python"
    }
  },
  "cells": [
    {
      "cell_type": "markdown",
      "metadata": {
        "id": "view-in-github",
        "colab_type": "text"
      },
      "source": [
        "<a href=\"https://colab.research.google.com/github/ItzelRZ/POO/blob/main/convivio.ipynb\" target=\"_parent\"><img src=\"https://colab.research.google.com/assets/colab-badge.svg\" alt=\"Open In Colab\"/></a>"
      ]
    },
    {
      "cell_type": "code",
      "execution_count": 44,
      "metadata": {
        "colab": {
          "base_uri": "https://localhost:8080/"
        },
        "id": "8nsQHvUPyKdJ",
        "outputId": "b89d5540-2e73-49d2-b09d-c0fb37bff6f8"
      },
      "outputs": [
        {
          "output_type": "stream",
          "name": "stdout",
          "text": [
            "Ingrese la cantidad de invitados hombres: 4\n",
            "Ingrese la cantidad de invitados mujeres: 10\n",
            "La cooperacion seria de 10.357142857142858\n",
            "Las personas invitadas son 14\n",
            "            y son 4 hombres y 10 mujeres.\n",
            "Los costos de los productos son: \n",
            "            Carne:640\n",
            "            Carbon:3\n",
            "            Refrescos:140.0\n",
            "            Complementos:1 y las personas que ponen complementos son: 14\n"
          ]
        }
      ],
      "source": [
        "import random\n",
        "\n",
        "class Convivio():\n",
        "  def __init__(self):\n",
        "    self.personas = 0\n",
        "    self.hom = 0\n",
        "    self.muj = 0\n",
        "    self.arrachera = 160\n",
        "    self.bisteck = 190\n",
        "    self.chorizo = 140\n",
        "    self.pollo = 100\n",
        "    self.salchicha=50\n",
        "    self.tcarne = 0\n",
        "    self.carneTP = self.arrachera + self.bisteck + self.chorizo + self.pollo + self.salchicha\n",
        "    self.car = 1\n",
        "    self.preC = 45\n",
        "    self.tresfre = 0\n",
        "    self.Crefresco = 20\n",
        "    self.comlementos = 25\n",
        "    self.costoC = 1\n",
        "    self.n = 0\n",
        "\n",
        "  def invitados (self):\n",
        "    self.hom = int(input(\"Ingrese la cantidad de invitados hombres: \"))\n",
        "    self.muj = int(input(\"Ingrese la cantidad de invitados mujeres: \"))\n",
        "    self.personas = self.hom + self.muj\n",
        "\n",
        "  def carnes(self):\n",
        "    self.tcarne = (self.hom*.8) + (self.muj*.5)\n",
        "\n",
        "    self.arrachera = self.arrachera*(self.tcarne*0.30)\n",
        "    self.bisteck=self.bisteck*(self.tcarne*0.30)\n",
        "    self.chorizo=self.chorizo*(self.tcarne*0.15)\n",
        "    self.pollo=self.pollo*(self.tcarne*0.15)\n",
        "    self.salchicha=self.salchicha*(self.tcarne*0.10)\n",
        "\n",
        "  def carbon1(self):\n",
        "    self.preC = (self.car*3)\n",
        "\n",
        "  def refrescos(self):\n",
        "    self.tresfre=.500*self.personas\n",
        "    self.Crefresco = self.Crefresco*self.tresfre\n",
        "\n",
        "  def complementosn (self,n):\n",
        "    self.n = random.randit(1,self.n)\n",
        "    self.costoC = self.n*self.complementos\n",
        "\n",
        "  def cooperacion(self):\n",
        "    self.cooperacion = self.preC + self.Crefresco + self.costoC + self.car\n",
        "    print(f\"La cooperacion seria de {self.cooperacion/self.personas}\")\n",
        "    return self.cooperacion\n",
        "\n",
        "  def compras(self):\n",
        "        print(f\"\"\"Las personas invitadas son {self.personas}\n",
        "            y son {self.hom} hombres y {self.muj} mujeres.\"\"\")\n",
        "        print\n",
        "        print(f\"\"\"Los costos de los productos son:\n",
        "            Carne:{self.carneTP}\n",
        "            Carbon:{self.preC}\n",
        "            Refrescos:{self.Crefresco}\n",
        "            Complementos:{self.costoC} y las personas que ponen complementos son: {self.personas}\"\"\")\n",
        "pary=Convivio()\n",
        "pary.invitados()\n",
        "pary.carbon1()\n",
        "pary.refrescos()\n",
        "pary.cooperacion()\n",
        "pary.compras()"
      ]
    }
  ]
}