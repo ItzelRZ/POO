{
  "nbformat": 4,
  "nbformat_minor": 0,
  "metadata": {
    "colab": {
      "provenance": [],
      "authorship_tag": "ABX9TyOc2sLaL9uH5hELHD/siVyN",
      "include_colab_link": true
    },
    "kernelspec": {
      "name": "python3",
      "display_name": "Python 3"
    },
    "language_info": {
      "name": "python"
    }
  },
  "cells": [
    {
      "cell_type": "markdown",
      "metadata": {
        "id": "view-in-github",
        "colab_type": "text"
      },
      "source": [
        "<a href=\"https://colab.research.google.com/github/ItzelRZ/POO/blob/main/Copia_de_alumnos.ipynb\" target=\"_parent\"><img src=\"https://colab.research.google.com/assets/colab-badge.svg\" alt=\"Open In Colab\"/></a>"
      ]
    },
    {
      "cell_type": "code",
      "execution_count": null,
      "metadata": {
        "id": "qmPa6ENWiIpO"
      },
      "outputs": [],
      "source": [
        "\n",
        "class Persona:\n",
        "    def __init__(self, nombre, edad):\n",
        "        self.nombre = nombre\n",
        "        self.edad = edad\n",
        "\n",
        "class Alumno(Persona):\n",
        "    def __init__(self, nombre, edad):\n",
        "        super().__init__(nombre, edad)\n",
        "\n",
        "alumnos = []\n",
        "\n",
        "while True:\n",
        "    nombre = input(\"Introduce el nombre del alumno (o '*' para terminar): \")\n",
        "    if nombre == \"*\":\n",
        "        break\n",
        "    edad = int(input(f\"Introduce la edad de {nombre}: \"))\n",
        "    alumno = Alumno(nombre, edad)\n",
        "    alumnos.append(alumno)\n",
        "\n",
        "print(\"\\nLista de alumnos:\")\n",
        "for a in alumnos:\n",
        "    print(f\"{a.nombre} - {a.edad} años\")\n",
        "\n",
        "print(\"\\nAlumnos mayores de edad (18+):\")\n",
        "for a in alumnos:\n",
        "    if a.edad >= 18:\n",
        "        print(f\"{a.nombre} - {a.edad} años\")\n",
        "\n",
        "if len(alumnos) >= 2:\n",
        "    # Ordenar por edad descendente\n",
        "    alumnos_ordenados = sorted(alumnos, key=lambda x: x.edad, reverse=True)\n",
        "    print(\"\\nLos dos alumnos con más edad:\")\n",
        "    for a in alumnos_ordenados[:2]:\n",
        "        print(f\"{a.nombre} - {a.edad} años\")\n",
        "elif len(alumnos) == 1:\n",
        "    print(\"\\nSolo hay un alumno:\")\n",
        "    print(f\"{alumnos[0].nombre} - {alumnos[0].edad} años\")\n",
        "else:\n",
        "    print(\"\\nNo se ingresaron alumnos.\")"
      ]
    },
    {
      "cell_type": "markdown",
      "source": [
        "hecho por Itzel Rios Zavala| 10 de abril del 2025"
      ],
      "metadata": {
        "id": "BdomlcYBi3Eb"
      }
    }
  ]
}