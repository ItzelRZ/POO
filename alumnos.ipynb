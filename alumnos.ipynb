{
  "nbformat": 4,
  "nbformat_minor": 0,
  "metadata": {
    "colab": {
      "provenance": [],
      "authorship_tag": "ABX9TyNKXc8+1xskLdLCdzI2lcbZ",
      "include_colab_link": true
    },
    "kernelspec": {
      "name": "python3",
      "display_name": "Python 3"
    },
    "language_info": {
      "name": "python"
    }
  },
  "cells": [
    {
      "cell_type": "markdown",
      "metadata": {
        "id": "view-in-github",
        "colab_type": "text"
      },
      "source": [
        "<a href=\"https://colab.research.google.com/github/ItzelRZ/POO/blob/main/alumnos.ipynb\" target=\"_parent\"><img src=\"https://colab.research.google.com/assets/colab-badge.svg\" alt=\"Open In Colab\"/></a>"
      ]
    },
    {
      "cell_type": "markdown",
      "source": [
        "hecho por Itzel Rios Zavala| 10 de abril del 2025"
      ],
      "metadata": {
        "id": "BdomlcYBi3Eb"
      }
    },
    {
      "cell_type": "code",
      "execution_count": 3,
      "metadata": {
        "colab": {
          "base_uri": "https://localhost:8080/"
        },
        "id": "qmPa6ENWiIpO",
        "outputId": "7ff534db-f8c9-44c4-f6cc-b001e62f1fa0"
      },
      "outputs": [
        {
          "output_type": "stream",
          "name": "stdout",
          "text": [
            "Introduce el nombre del alumno (o '*' para terminar): Itzel \n",
            "Introduce la edad de Itzel : 18\n",
            "Introduce el nombre del alumno (o '*' para terminar): Max \n",
            "Introduce la edad de Max : 15\n",
            "Introduce el nombre del alumno (o '*' para terminar): kyle\n",
            "Introduce la edad de kyle: 28\n",
            "Introduce el nombre del alumno (o '*' para terminar): *\n",
            "\n",
            "Lista de alumnos:\n",
            "Itzel  - 18 años\n",
            "Max  - 15 años\n",
            "kyle - 28 años\n",
            "\n",
            "Alumnos mayores de edad (18+):\n",
            "Itzel  - 18 años\n",
            "kyle - 28 años\n",
            "\n",
            "Los dos alumnos con más edad:\n",
            "kyle - 28 años\n",
            "Itzel  - 18 años\n"
          ]
        }
      ],
      "source": [
        "\n",
        "class Persona:\n",
        "    def __init__(self, nombre, edad):\n",
        "        self.nombre = nombre\n",
        "        self.edad = edad\n",
        "\n",
        "class Alumno(Persona):\n",
        "    def __init__(self, nombre, edad):\n",
        "        super().__init__(nombre, edad)\n",
        "\n",
        "alumnos = []\n",
        "\n",
        "while True:\n",
        "    nombre = input(\"Introduce el nombre del alumno (o '*' para terminar): \")\n",
        "    if nombre == \"*\":\n",
        "        break\n",
        "    edad = int(input(f\"Introduce la edad de {nombre}: \"))\n",
        "    alumno = Alumno(nombre, edad)\n",
        "    alumnos.append(alumno)\n",
        "\n",
        "print(\"\\nLista de alumnos:\")\n",
        "for a in alumnos:\n",
        "    print(f\"{a.nombre} - {a.edad} años\")\n",
        "\n",
        "print(\"\\nAlumnos mayores de edad (18+):\")\n",
        "for a in alumnos:\n",
        "    if a.edad >= 18:\n",
        "        print(f\"{a.nombre} - {a.edad} años\")\n",
        "\n",
        "if len(alumnos) >= 2:\n",
        "    # Ordenar por edad descendente\n",
        "    alumnos_ordenados = sorted(alumnos, key=lambda x: x.edad, reverse=True)\n",
        "    print(\"\\nLos dos alumnos con más edad:\")\n",
        "    for a in alumnos_ordenados[:2]:\n",
        "        print(f\"{a.nombre} - {a.edad} años\")\n",
        "elif len(alumnos) == 1:\n",
        "    print(\"\\nSolo hay un alumno:\")\n",
        "    print(f\"{alumnos[0].nombre} - {alumnos[0].edad} años\")\n",
        "else:\n",
        "    print(\"\\nNo se ingresaron alumnos.\")"
      ]
    }
  ]
}