{
  "nbformat": 4,
  "nbformat_minor": 0,
  "metadata": {
    "colab": {
      "provenance": [],
      "authorship_tag": "ABX9TyO2b98E9P5N0tfg/4CkoQx4",
      "include_colab_link": true
    },
    "kernelspec": {
      "name": "python3",
      "display_name": "Python 3"
    },
    "language_info": {
      "name": "python"
    }
  },
  "cells": [
    {
      "cell_type": "markdown",
      "metadata": {
        "id": "view-in-github",
        "colab_type": "text"
      },
      "source": [
        "<a href=\"https://colab.research.google.com/github/ItzelRZ/POO/blob/main/refresco.ipynb\" target=\"_parent\"><img src=\"https://colab.research.google.com/assets/colab-badge.svg\" alt=\"Open In Colab\"/></a>"
      ]
    },
    {
      "cell_type": "markdown",
      "source": [
        "Itzel Rios Zavala | 10 de abril del 2025"
      ],
      "metadata": {
        "id": "f69XWc0UpBYS"
      }
    },
    {
      "cell_type": "code",
      "execution_count": 8,
      "metadata": {
        "colab": {
          "base_uri": "https://localhost:8080/"
        },
        "id": "O5pGKCzhn1yI",
        "outputId": "8067b2b1-0d19-4833-c796-df89f9c6f9c3"
      },
      "outputs": [
        {
          "output_type": "stream",
          "name": "stdout",
          "text": [
            "\n",
            "--- Máquina de Refrescos ---\n",
            "1. Coca-Cola - $15\n",
            "2. Pepsi - $13\n",
            "3. Fanta - $12\n",
            "4. Sprite - $14\n",
            "5. Manzanita - $11\n",
            "Seleccione un refresco (1-5): 2\n",
            "Ingrese el monto pagado (precio: $13): 200\n",
            "Compra realizada. Cambio devuelto: 18 moneda(s) de $10, 1 moneda(s) de $5, 2 moneda(s) de $1\n",
            "¿Desea hacer otra compra? (s/n): n\n",
            "\n",
            "--- Reporte Final ---\n",
            "Producto\tVendidos\tTotal Cobrado\n",
            "Coca-Cola\t0\t\t$0\n",
            "Pepsi\t1\t\t$13\n",
            "Fanta\t0\t\t$0\n",
            "Sprite\t0\t\t$0\n",
            "Manzanita\t0\t\t$0\n",
            "\n",
            "Cambios otorgados (por compra):\n",
            "Compra 1: 18 moneda(s) de $10, 1 moneda(s) de $5, 2 moneda(s) de $1\n"
          ]
        }
      ],
      "source": [
        "class MaquinaRefrescos:\n",
        "    def __init__(self):\n",
        "        self.refrescos = [\"Coca-Cola\", \"Pepsi\", \"Fanta\", \"Sprite\", \"Manzanita\"]\n",
        "        self.precios = [15, 13, 12, 14, 11]\n",
        "        self.ventas = [0] * 5\n",
        "        self.total_cobrado = [0] * 5\n",
        "        self.cambios = []\n",
        "\n",
        "    def mostrar_menu(self):\n",
        "        print(\"\\n--- Máquina de Refrescos ---\")\n",
        "        for i, nombre in enumerate(self.refrescos):\n",
        "            print(f\"{i + 1}. {nombre} - ${self.precios[i]}\")\n",
        "\n",
        "    def calcular_cambio(self, cambio):\n",
        "        monedas = []\n",
        "        for valor in [10, 5, 1]:\n",
        "            cantidad = cambio // valor\n",
        "            if cantidad > 0:\n",
        "                monedas.append(f\"{cantidad} moneda(s) de ${valor}\")\n",
        "            cambio %= valor\n",
        "        return monedas\n",
        "\n",
        "    def comprar_refresco(self):\n",
        "        self.mostrar_menu()\n",
        "        opcion = int(input(\"Seleccione un refresco (1-5): \")) - 1\n",
        "\n",
        "        if 0 <= opcion < 5:\n",
        "            precio = self.precios[opcion]\n",
        "            pago = int(input(f\"Ingrese el monto pagado (precio: ${precio}): \"))\n",
        "\n",
        "            if pago < precio:\n",
        "                print(\"Pago insuficiente. No se realiza la compra.\")\n",
        "                return\n",
        "\n",
        "            self.ventas[opcion] += 1\n",
        "            self.total_cobrado[opcion] += precio\n",
        "            cambio = pago - precio\n",
        "            monedas_cambio = self.calcular_cambio(cambio)\n",
        "            self.cambios.append(monedas_cambio)\n",
        "\n",
        "            print(f\"Compra realizada. Cambio devuelto: {', '.join(monedas_cambio)}\")\n",
        "        else:\n",
        "            print(\"Opción inválida.\")\n",
        "\n",
        "    def mostrar_resultados(self):\n",
        "        print(\"\\n--- Reporte Final ---\")\n",
        "        print(\"Producto\\tVendidos\\tTotal Cobrado\")\n",
        "        for i in range(5):\n",
        "            print(f\"{self.refrescos[i]}\\t{self.ventas[i]}\\t\\t${self.total_cobrado[i]}\")\n",
        "\n",
        "        print(\"\\nCambios otorgados (por compra):\")\n",
        "        for i, cambio in enumerate(self.cambios, 1):\n",
        "            print(f\"Compra {i}: {', '.join(cambio)}\")\n",
        "\n",
        "maquina = MaquinaRefrescos()\n",
        "\n",
        "while True:\n",
        "    maquina.comprar_refresco()\n",
        "    continuar = input(\"¿Desea hacer otra compra? (s/n): \").lower()\n",
        "    if continuar != 's':\n",
        "        break\n",
        "\n",
        "maquina.mostrar_resultados()"
      ]
    }
  ]
}