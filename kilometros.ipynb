{
  "nbformat": 4,
  "nbformat_minor": 0,
  "metadata": {
    "colab": {
      "provenance": [],
      "authorship_tag": "ABX9TyPYvoFMfKW2oBJH5I4XuuvH",
      "include_colab_link": true
    },
    "kernelspec": {
      "name": "python3",
      "display_name": "Python 3"
    },
    "language_info": {
      "name": "python"
    }
  },
  "cells": [
    {
      "cell_type": "markdown",
      "metadata": {
        "id": "view-in-github",
        "colab_type": "text"
      },
      "source": [
        "<a href=\"https://colab.research.google.com/github/ItzelRZ/POO/blob/main/kilometros.ipynb\" target=\"_parent\"><img src=\"https://colab.research.google.com/assets/colab-badge.svg\" alt=\"Open In Colab\"/></a>"
      ]
    },
    {
      "cell_type": "markdown",
      "source": [
        "Itzel Rios Zavala| 10 de abril del 2025"
      ],
      "metadata": {
        "id": "IJOcJ-wZjzIY"
      }
    },
    {
      "cell_type": "code",
      "execution_count": 2,
      "metadata": {
        "colab": {
          "base_uri": "https://localhost:8080/"
        },
        "id": "islO07Xijw5w",
        "outputId": "3ed9d234-1f7d-4ac1-bb1a-5b3571935871"
      },
      "outputs": [
        {
          "output_type": "stream",
          "name": "stdout",
          "text": [
            "¿Cuántos conductores desea ingresar? 5\n",
            "\n",
            "--- Conductor #1 ---\n",
            "Nombre del conductor: Itzel \n",
            "Kilómetros recorridos el Lunes: 120\n",
            "Kilómetros recorridos el Martes: 235\n",
            "Kilómetros recorridos el Miércoles: 100\n",
            "Kilómetros recorridos el Jueves: 145\n",
            "Kilómetros recorridos el Viernes: 301\n",
            "Kilómetros recorridos el Sábado: 24\n",
            "Kilómetros recorridos el Domingo: 100\n",
            "\n",
            "--- Conductor #2 ---\n",
            "Nombre del conductor: Maximiliano \n",
            "Kilómetros recorridos el Lunes: 200\n",
            "Kilómetros recorridos el Martes: 200\n",
            "Kilómetros recorridos el Miércoles: 150\n",
            "Kilómetros recorridos el Jueves: 135\n",
            "Kilómetros recorridos el Viernes: 126\n",
            "Kilómetros recorridos el Sábado: 100\n",
            "Kilómetros recorridos el Domingo: 200\n",
            "\n",
            "--- Conductor #3 ---\n",
            "Nombre del conductor: mariela\n",
            "Kilómetros recorridos el Lunes: 100\n",
            "Kilómetros recorridos el Martes: 110\n",
            "Kilómetros recorridos el Miércoles: 100\n",
            "Kilómetros recorridos el Jueves: 120\n",
            "Kilómetros recorridos el Viernes: 120\n",
            "Kilómetros recorridos el Sábado: 100\n",
            "Kilómetros recorridos el Domingo: 100\n",
            "\n",
            "--- Conductor #4 ---\n",
            "Nombre del conductor: yoav\n",
            "Kilómetros recorridos el Lunes: 150\n",
            "Kilómetros recorridos el Martes: 150\n",
            "Kilómetros recorridos el Miércoles: 100\n",
            "Kilómetros recorridos el Jueves: 130\n",
            "Kilómetros recorridos el Viernes: 55\n",
            "Kilómetros recorridos el Sábado: 100\n",
            "Kilómetros recorridos el Domingo: 50\n",
            "\n",
            "--- Conductor #5 ---\n",
            "Nombre del conductor: uli\n",
            "Kilómetros recorridos el Lunes: 35\n",
            "Kilómetros recorridos el Martes: 100\n",
            "Kilómetros recorridos el Miércoles: 45\n",
            "Kilómetros recorridos el Jueves: 50\n",
            "Kilómetros recorridos el Viernes: 100\n",
            "Kilómetros recorridos el Sábado: 200\n",
            "Kilómetros recorridos el Domingo: 100\n",
            "\n",
            "Conductor\tKilómetros Totales\n",
            "Itzel \t\t1025.0 km\n",
            "Maximiliano \t\t1111.0 km\n",
            "mariela\t\t750.0 km\n",
            "yoav\t\t735.0 km\n",
            "uli\t\t630.0 km\n"
          ]
        }
      ],
      "source": [
        "\n",
        "class Conductor:\n",
        "    def __init__(self, nombre):\n",
        "        self.nombre = nombre\n",
        "\n",
        "class RegistroKilometros(Conductor):\n",
        "    def __init__(self, nombre, kms_por_dia):\n",
        "        super().__init__(nombre)\n",
        "        self.kms_por_dia = kms_por_dia\n",
        "        self.total_kms = 0\n",
        "\n",
        "    def calcular_total(self):\n",
        "        self.total_kms = sum(self.kms_por_dia)\n",
        "\n",
        "    def mostrar_info(self):\n",
        "        print(f\"{self.nombre}\\t\\t{self.total_kms} km\")\n",
        "\n",
        "num_conductores = int(input(\"¿Cuántos conductores desea ingresar? \"))\n",
        "\n",
        "conductores = []\n",
        "\n",
        "for i in range(num_conductores):\n",
        "    print(f\"\\n--- Conductor #{i + 1} ---\")\n",
        "    nombre = input(\"Nombre del conductor: \")\n",
        "\n",
        "    kms_por_dia = []\n",
        "    dias = [\"Lunes\", \"Martes\", \"Miércoles\", \"Jueves\", \"Viernes\", \"Sábado\", \"Domingo\"]\n",
        "\n",
        "    for dia in dias:\n",
        "        km = float(input(f\"Kilómetros recorridos el {dia}: \"))\n",
        "        kms_por_dia.append(km)\n",
        "\n",
        "    conductor = RegistroKilometros(nombre, kms_por_dia)\n",
        "    conductores.append(conductor)\n",
        "\n",
        "print(\"\\nConductor\\tKilómetros Totales\")\n",
        "for c in conductores:\n",
        "    c.calcular_total()\n",
        "    c.mostrar_info()"
      ]
    }
  ]
}