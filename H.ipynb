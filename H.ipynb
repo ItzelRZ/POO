{
  "nbformat": 4,
  "nbformat_minor": 0,
  "metadata": {
    "colab": {
      "provenance": [],
      "authorship_tag": "ABX9TyOZP270WWYcv4F8eqOp4DMi",
      "include_colab_link": true
    },
    "kernelspec": {
      "name": "python3",
      "display_name": "Python 3"
    },
    "language_info": {
      "name": "python"
    }
  },
  "cells": [
    {
      "cell_type": "markdown",
      "metadata": {
        "id": "view-in-github",
        "colab_type": "text"
      },
      "source": [
        "<a href=\"https://colab.research.google.com/github/ItzelRZ/POO/blob/main/H.ipynb\" target=\"_parent\"><img src=\"https://colab.research.google.com/assets/colab-badge.svg\" alt=\"Open In Colab\"/></a>"
      ]
    },
    {
      "cell_type": "code",
      "execution_count": null,
      "metadata": {
        "id": "3mCRpe7vyv-b"
      },
      "outputs": [],
      "source": [
        "class FamiliaProgramadores:\n",
        "    def __init__(self, nombre):\n",
        "        self.nombre = nombre\n",
        "    def saludar(self):\n",
        "        print(\"Hola, soy\", self.nombre, \"y soy un programador.\")\n",
        "    def trabajar(self):\n",
        "        print(\"Estoy trabajando en un proyecto emocionante!\")\n",
        "class HijoProgramador(FamiliaProgramadores):\n",
        "    def __init__(self, nombre, lenguaje):\n",
        "        super().__init__(nombre)\n",
        "        self.lenguaje = lenguaje\n",
        "    def programar(self):\n",
        "        print(\"Estoy programando en\", self.lenguaje)\n",
        "    def jugar(self):\n",
        "        print(\"¡Hora de jugar a mi videojuego!\")\n",
        "hijo = HijoProgramador(\"Juan\", \"Python\")\n",
        "hijo.saludar()\n",
        "# Salida: Hola, soy Juan y soy un programador.\n",
        "hijo.programar()  # Salida: Estoy programando en Python\n",
        "hijo.trabajar()   # Salida: Estoy trabajando en un proyecto emocionante!\n",
        "hijo.jugar()      # Salida: ¡Hora de jugar a mi videojuego!"
      ]
    }
  ]
}