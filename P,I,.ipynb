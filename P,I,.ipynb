{
  "nbformat": 4,
  "nbformat_minor": 0,
  "metadata": {
    "colab": {
      "provenance": [],
      "authorship_tag": "ABX9TyO1qEIToofLNFmmSXScujOc",
      "include_colab_link": true
    },
    "kernelspec": {
      "name": "python3",
      "display_name": "Python 3"
    },
    "language_info": {
      "name": "python"
    }
  },
  "cells": [
    {
      "cell_type": "markdown",
      "metadata": {
        "id": "view-in-github",
        "colab_type": "text"
      },
      "source": [
        "<a href=\"https://colab.research.google.com/github/ItzelRZ/POO/blob/main/P%2CI%2C.ipynb\" target=\"_parent\"><img src=\"https://colab.research.google.com/assets/colab-badge.svg\" alt=\"Open In Colab\"/></a>"
      ]
    },
    {
      "cell_type": "markdown",
      "source": [
        "Itzel Rios Zavala | 14 - 02 - 25"
      ],
      "metadata": {
        "id": "XSyK_jkc_-z4"
      }
    },
    {
      "cell_type": "code",
      "source": [
        "class operacion:\n",
        "    def paroimpar(self,val1):\n",
        "        r=\"\"\n",
        "        if (val1%2)==0:\n",
        "            r=\"es par\"\n",
        "        else:\n",
        "            r=\"es impar\"\n",
        "        return (r)\n",
        "    def primo(self,val1):\n",
        "        r=\"\"\n",
        "        if val1>1:\n",
        "            for i in range(2,val1):\n",
        "                if (val1 % i)==0:\n",
        "                    r=\" y no es primo\"\n",
        "                else:\n",
        "                    r=\" y es primo\"\n",
        "        return(r)\n",
        "obj=operacion()\n",
        "n=int(input(\"Ingrese un numero: \"))\n",
        "resul=obj.paroimpar(n)+obj.primo(n)\n",
        "print(\"El numero\",n,resul)"
      ],
      "metadata": {
        "id": "2XL1luYCAenv"
      },
      "execution_count": null,
      "outputs": []
    }
  ]
}