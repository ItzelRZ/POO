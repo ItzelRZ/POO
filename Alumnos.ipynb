{
  "nbformat": 4,
  "nbformat_minor": 0,
  "metadata": {
    "colab": {
      "provenance": [],
      "authorship_tag": "ABX9TyNAL+dlQWYnraOj0Mm4qtsK",
      "include_colab_link": true
    },
    "kernelspec": {
      "name": "python3",
      "display_name": "Python 3"
    },
    "language_info": {
      "name": "python"
    }
  },
  "cells": [
    {
      "cell_type": "markdown",
      "metadata": {
        "id": "view-in-github",
        "colab_type": "text"
      },
      "source": [
        "<a href=\"https://colab.research.google.com/github/ItzelRZ/POO/blob/main/Alumnos.ipynb\" target=\"_parent\"><img src=\"https://colab.research.google.com/assets/colab-badge.svg\" alt=\"Open In Colab\"/></a>"
      ]
    },
    {
      "cell_type": "markdown",
      "source": [
        "Itzel Rios Zavala 06 - 03 - 25\n",
        "donde el usuario pueda ingresar su nombre, edad y sexo, dependiendo de estos datos se hará una evaluación donde me tendra que arrojar (promedio de alumnos, cantidad de hombres, cantidad de mujeres, promedio de edades, cantidad de alumnos en total y promedio de cantidad de alumnos)"
      ],
      "metadata": {
        "id": "HxntKnlC10Eh"
      }
    },
    {
      "cell_type": "code",
      "execution_count": null,
      "metadata": {
        "id": "mVOnXSrI0zVo"
      },
      "outputs": [],
      "source": [
        "class Alumnos:\n",
        "    def __init__(self):\n",
        "        self.alumno = []\n",
        "\n",
        "    def datos(self):\n",
        "        res = \"S\"\n",
        "\n",
        "        while res == \"S\" or res == \"s\":\n",
        "            nombre = input(\"Ingrese el nombre del alumno: \")\n",
        "            edad = int(input(\"Ingrese la edad del alumno: \"))\n",
        "            sexo = input(\"Ingrese el sexo del alumno (M/F): \").strip()\n",
        "\n",
        "            if sexo == \"M\" or sexo == \"m\" or sexo == \"F\" or sexo == \"f\":\n",
        "                self.alumnos.append((nombre, edad, sexo))\n",
        "            else:\n",
        "                print(\"Sexo no válido. Intente de nuevo.\")\n",
        "\n",
        "            res = input(\"¿Desea ingresar otro alumno? (S/N): \").strip()\n",
        "\n",
        "    def calcular(self):\n",
        "        if len(self.alumnos) == 0:\n",
        "            return 0, 0, 0, 0, 0, 0\n",
        "\n",
        "        talumnos = len(self.alumno)\n",
        "        hombres = sum(1 for a in self.alumno if a[2] == \"M\" or a[2] == \"m\")\n",
        "        mujeres = sum(1 for a in self.alumno if a[2] == \"F\" or a[2] == \"f\")\n",
        "        edades = sum(a[1] for a in self.alumno)\n",
        "        promedades = edades / talumnos\n",
        "        promalumnos = talumnos / 2  # Puedes cambiarlo según necesidad\n",
        "\n",
        "        return talumnos, hombres, mujeres, promedades, edades, promalumnos\n",
        "\n",
        "    def resultados(self):\n",
        "        talumnos, hombres, mujeres, promedades, edades, promalumnos = self.calcular()\n",
        "\n",
        "        print(\"\\nResultados:\")\n",
        "        print(\"Total de alumnos:\", talumnos)\n",
        "        print(\"Cantidad de hombres:\", hombres)\n",
        "        print(\"Cantidad de mujeres:\", mujeres)\n",
        "        print(\"Suma de todas las edades:\", edades)\n",
        "        print(\"Promedio de edades:\", round(promedades, 2))\n",
        "        print(\"Promedio de alumnos ingresados:\", round(promalumnos, 2))\n",
        "\n",
        "\n",
        "# Crear objeto y ejecutar el programa\n",
        "gestor = Alumnos()\n",
        "gestor.datos()\n",
        "gestor.resultados()\n"
      ]
    }
  ]
}