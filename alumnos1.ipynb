{
  "nbformat": 4,
  "nbformat_minor": 0,
  "metadata": {
    "colab": {
      "provenance": [],
      "authorship_tag": "ABX9TyNRjROTBkStI2eXTH6khBCk",
      "include_colab_link": true
    },
    "kernelspec": {
      "name": "python3",
      "display_name": "Python 3"
    },
    "language_info": {
      "name": "python"
    }
  },
  "cells": [
    {
      "cell_type": "markdown",
      "metadata": {
        "id": "view-in-github",
        "colab_type": "text"
      },
      "source": [
        "<a href=\"https://colab.research.google.com/github/ItzelRZ/POO/blob/main/alumnos1.ipynb\" target=\"_parent\"><img src=\"https://colab.research.google.com/assets/colab-badge.svg\" alt=\"Open In Colab\"/></a>"
      ]
    },
    {
      "cell_type": "code",
      "execution_count": 4,
      "metadata": {
        "colab": {
          "base_uri": "https://localhost:8080/"
        },
        "id": "jwZD8lBtufwu",
        "outputId": "01eaa196-1ede-4104-d8ac-994d05ed504f"
      },
      "outputs": [
        {
          "output_type": "stream",
          "name": "stdout",
          "text": [
            "Introduce el nombre del alumno (o '*' para terminar): Itzel \n",
            "Introduce la edad de Itzel : 18\n",
            "Introduce el nombre del alumno (o '*' para terminar): Maximiliano \n",
            "Introduce la edad de Maximiliano : 18\n",
            "Introduce el nombre del alumno (o '*' para terminar): Santiago \n",
            "Introduce la edad de Santiago : 19\n",
            "Introduce el nombre del alumno (o '*' para terminar): Yoav\n",
            "Introduce la edad de Yoav: 20\n",
            "Introduce el nombre del alumno (o '*' para terminar): *\n",
            "\n",
            "Lista de alumnos:\n",
            "Nombre               Edad\n",
            "Itzel                18\n",
            "Maximiliano          18\n",
            "Santiago             19\n",
            "Yoav                 20\n",
            "\n",
            "Alumnos mayores de edad (18+):\n",
            "Nombre               Edad\n",
            "Itzel                18\n",
            "Maximiliano          18\n",
            "Santiago             19\n",
            "Yoav                 20\n",
            "\n",
            "Los dos alumnos con más edad:\n",
            "Nombre               Edad\n",
            "Yoav                 20\n",
            "Santiago             19\n"
          ]
        }
      ],
      "source": [
        "class Persona:\n",
        "    def __init__(self, nombre, edad):\n",
        "        self.nombre = nombre\n",
        "        self.edad = edad\n",
        "\n",
        "alumnos = []\n",
        "\n",
        "while True:\n",
        "    nombre = input(\"Introduce el nombre del alumno (o '*' para terminar): \")\n",
        "    if nombre == \"*\":\n",
        "        break\n",
        "    edad = int(input(f\"Introduce la edad de {nombre}: \"))\n",
        "    alumno = Persona(nombre, edad)\n",
        "    alumnos.append(alumno)\n",
        "\n",
        "print(\"\\nLista de alumnos:\")\n",
        "print(f\"{'Nombre':<20} {'Edad'}\")\n",
        "for a in alumnos:\n",
        "    print(f\"{a.nombre:<20} {a.edad}\")\n",
        "\n",
        "print(\"\\nAlumnos mayores de edad (18+):\")\n",
        "print(f\"{'Nombre':<20} {'Edad'}\")\n",
        "for a in alumnos:\n",
        "    if a.edad >= 18:\n",
        "        print(f\"{a.nombre:<20} {a.edad}\")\n",
        "\n",
        "if len(alumnos) >= 2:\n",
        "    if alumnos[0].edad > alumnos[1].edad:\n",
        "        primero, segundo = alumnos[0], alumnos[1]\n",
        "    else:\n",
        "        primero, segundo = alumnos[1], alumnos[0]\n",
        "\n",
        "    for a in alumnos[2:]:\n",
        "        if a.edad > primero.edad:\n",
        "            segundo = primero\n",
        "            primero = a\n",
        "        elif a.edad > segundo.edad:\n",
        "            segundo = a\n",
        "\n",
        "    print(\"\\nLos dos alumnos con más edad:\")\n",
        "    print(f\"{'Nombre':<20} {'Edad'}\")\n",
        "    print(f\"{primero.nombre:<20} {primero.edad}\")\n",
        "    print(f\"{segundo.nombre:<20} {segundo.edad}\")\n",
        "\n",
        "elif len(alumnos) == 1:\n",
        "    print(\"\\nSolo hay un alumno:\")\n",
        "    print(f\"{'Nombre':<20} {'Edad'}\")\n",
        "    print(f\"{alumnos[0].nombre:<20} {alumnos[0].edad}\")\n",
        "else:\n",
        "    print(\"\\nNo se ingresaron alumnos.\")"
      ]
    }
  ]
}