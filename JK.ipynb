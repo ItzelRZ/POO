{
  "nbformat": 4,
  "nbformat_minor": 0,
  "metadata": {
    "colab": {
      "provenance": [],
      "authorship_tag": "ABX9TyMPYoZrdMUe8oDytNpXvHER",
      "include_colab_link": true
    },
    "kernelspec": {
      "name": "python3",
      "display_name": "Python 3"
    },
    "language_info": {
      "name": "python"
    }
  },
  "cells": [
    {
      "cell_type": "markdown",
      "metadata": {
        "id": "view-in-github",
        "colab_type": "text"
      },
      "source": [
        "<a href=\"https://colab.research.google.com/github/ItzelRZ/POO/blob/main/JK.ipynb\" target=\"_parent\"><img src=\"https://colab.research.google.com/assets/colab-badge.svg\" alt=\"Open In Colab\"/></a>"
      ]
    },
    {
      "cell_type": "markdown",
      "source": [
        "itzel rios zavala | 21 - 02 - 25"
      ],
      "metadata": {
        "id": "QuEwntJ5DbMh"
      }
    },
    {
      "cell_type": "code",
      "source": [
        "import random\n",
        "x=\"hola mundo tengo hasta diciembre apa\"#vector\n",
        "print(len(x))#len -longitud\n",
        "#y=x.replace(\"a\",\"a\") no jala\n",
        "#print(random[0,35]) no jala\n",
        "u=random.randint(0,35)\n",
        "print(u)"
      ],
      "metadata": {
        "id": "kRal10eGDZ-8"
      },
      "execution_count": null,
      "outputs": []
    }
  ]
}