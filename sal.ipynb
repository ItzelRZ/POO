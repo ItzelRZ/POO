{
  "nbformat": 4,
  "nbformat_minor": 0,
  "metadata": {
    "colab": {
      "provenance": [],
      "authorship_tag": "ABX9TyOAcWxqIxivuF7pB41ykqN+",
      "include_colab_link": true
    },
    "kernelspec": {
      "name": "python3",
      "display_name": "Python 3"
    },
    "language_info": {
      "name": "python"
    }
  },
  "cells": [
    {
      "cell_type": "markdown",
      "metadata": {
        "id": "view-in-github",
        "colab_type": "text"
      },
      "source": [
        "<a href=\"https://colab.research.google.com/github/ItzelRZ/POO/blob/main/sal.ipynb\" target=\"_parent\"><img src=\"https://colab.research.google.com/assets/colab-badge.svg\" alt=\"Open In Colab\"/></a>"
      ]
    },
    {
      "cell_type": "markdown",
      "source": [
        "Itzel Rios Zavala |"
      ],
      "metadata": {
        "id": "kQdj6W7EB_NQ"
      }
    },
    {
      "cell_type": "code",
      "execution_count": null,
      "metadata": {
        "id": "S85ow9TkB7-m"
      },
      "outputs": [],
      "source": [
        "class holaMundo:\n",
        "    def __init__(self,x,y):\n",
        "        self.x=0\n",
        "        self.y=0\n",
        "    def a(self):\n",
        "        r=\"hola\"\n",
        "        return(r)\n",
        "    def b(self):\n",
        "        n=input(\"Ingresa tu nombre: \")\n",
        "        return(n)\n",
        "    def c(self,n,r):\n",
        "        print(r+\" \"+n+\" Buen dia\")\n",
        "obj=holaMundo(0,0)\n",
        "obj.c(obj.b(),obj.a())"
      ]
    }
  ]
}